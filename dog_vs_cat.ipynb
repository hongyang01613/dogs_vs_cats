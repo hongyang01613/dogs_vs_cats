{
 "cells": [
  {
   "cell_type": "markdown",
   "metadata": {},
   "source": [
    "数据的预处理部分"
   ]
  },
  {
   "cell_type": "code",
   "execution_count": 32,
   "metadata": {},
   "outputs": [
    {
     "name": "stdout",
     "output_type": "stream",
     "text": [
      "the cats are 0, dogs are 0\n",
      "the test is 12500\n"
     ]
    }
   ],
   "source": [
    "import os \n",
    "import shutil\n",
    "import numpy as np \n",
    "import time\n",
    "\n",
    "root_src='D:\\workfile\\python code\\projects\\dog_vs_cat_MLND'\n",
    "os.chdir(root_src)\n",
    "\n",
    "def create_directory(dir_name):\n",
    "    if os.path.exists(dir_name):\n",
    "        pass\n",
    "    else:\n",
    "        os.mkdir(dir_name)\n",
    "\n",
    "create_directory('train2')\n",
    "create_directory('train2/cat')\n",
    "create_directory('train2/dog')\n",
    "\n",
    "\n",
    "import random\n",
    "\n",
    "filenames=os.listdir('train/train/')\n",
    "cat_file=list(filter(lambda x:x[:3] =='cat', filenames))\n",
    "cat_file_num=len(cat_file)\n",
    "\n",
    "dog_file=list(filter(lambda x:x[:3] =='dog', filenames))\n",
    "dog_file_num=len(dog_file)\n",
    "\n",
    "print(\"the cats are %d, dogs are %d\"%(cat_file_num, dog_file_num))\n",
    "\n",
    "for name in cat_file:\n",
    "    shutil.move('train/train/'+name, 'train2/cat/'+name)\n",
    "for name in dog_file:\n",
    "    shutil.move('train/train/'+name, 'train2/dog/'+name)\n",
    "\n",
    "\n",
    "filenames=os.listdir('test1/test1')\n",
    "\n",
    "print(\"the test is %d\" %len(filenames))"
   ]
  },
  {
   "cell_type": "markdown",
   "metadata": {},
   "source": [
    "这里为了减少模型训练的时间，有效利用前人的经验提高准确率，选择了4个训练好的模型，ResNet50,\n",
    "Xception，InceptionV3 和VGG19。这四个都是前人总结发展的非常好的模型，可以帮助我们高速有效的\n",
    "构建一个深度学习分类器"
   ]
  },
  {
   "cell_type": "markdown",
   "metadata": {},
   "source": [
    "载入这些特征向量，将它们合并成一条特征向量，随机打乱X,y。"
   ]
  },
  {
   "cell_type": "code",
   "execution_count": 33,
   "metadata": {},
   "outputs": [
    {
     "name": "stdout",
     "output_type": "stream",
     "text": [
      "KeysView(<HDF5 file \"gap_VGG19.h5\" (mode r)>)\n",
      "KeysView(<HDF5 file \"gap_Xception.h5\" (mode r)>)\n",
      "KeysView(<HDF5 file \"gap_ResNet50.h5\" (mode r)>)\n",
      "KeysView(<HDF5 file \"gap_InceptionV3.h5\" (mode r)>)\n"
     ]
    }
   ],
   "source": [
    "import h5py\n",
    "import numpy as np\n",
    "from sklearn.utils import shuffle\n",
    "np.random.seed(2017)\n",
    "\n",
    "X_train=[]\n",
    "X_test=[]\n",
    "\n",
    "for filename in ['gap_VGG19.h5', 'gap_Xception.h5', 'gap_ResNet50.h5','gap_InceptionV3.h5']:\n",
    "    with h5py.File(filename, 'r') as h:\n",
    "        print(h.keys())\n",
    "        X_train.append(np.array(h['train']))\n",
    "        X_test.append(np.array(h['test']))\n",
    "        y_train=np.array(h['label'])\n",
    "        \n",
    "X_train=np.concatenate(X_train, axis=1)\n",
    "X_test=np.concatenate(X_test, axis=1)\n",
    "\n",
    "X_train, y_train=shuffle(X_train, y_train)"
   ]
  },
  {
   "cell_type": "markdown",
   "metadata": {},
   "source": [
    "构建模型"
   ]
  },
  {
   "cell_type": "code",
   "execution_count": 34,
   "metadata": {},
   "outputs": [],
   "source": [
    "from keras.models import *\n",
    "from keras.layers import *\n",
    "np.random.seed(2017)\n",
    "\n",
    "input_tensor=Input(X_train.shape[1:])\n",
    "x=Dropout(0.5)(input_tensor)\n",
    "x=Dense(1,activation='sigmoid')(x)\n",
    "\n",
    "model=Model(input_tensor, x)\n",
    "model.compile(optimizer='adadelta', loss='binary_crossentropy', metrics=['accuracy'])\n"
   ]
  },
  {
   "cell_type": "markdown",
   "metadata": {},
   "source": [
    "模型的训练"
   ]
  },
  {
   "cell_type": "code",
   "execution_count": 35,
   "metadata": {},
   "outputs": [
    {
     "name": "stdout",
     "output_type": "stream",
     "text": [
      "Train on 20000 samples, validate on 5000 samples\n",
      "Epoch 1/10\n",
      "20000/20000 [==============================] - 1s - loss: 0.1772 - acc: 0.9305 - val_loss: 0.0266 - val_acc: 0.9910\n",
      "Epoch 2/10\n",
      "20000/20000 [==============================] - 1s - loss: 0.0430 - acc: 0.9846 - val_loss: 0.0171 - val_acc: 0.9944\n",
      "Epoch 3/10\n",
      "20000/20000 [==============================] - 1s - loss: 0.0286 - acc: 0.9909 - val_loss: 0.0160 - val_acc: 0.9940\n",
      "Epoch 4/10\n",
      "20000/20000 [==============================] - 1s - loss: 0.0260 - acc: 0.9913 - val_loss: 0.0132 - val_acc: 0.9952\n",
      "Epoch 5/10\n",
      "20000/20000 [==============================] - 1s - loss: 0.0217 - acc: 0.9931 - val_loss: 0.0125 - val_acc: 0.9956\n",
      "Epoch 6/10\n",
      "20000/20000 [==============================] - 1s - loss: 0.0201 - acc: 0.9937 - val_loss: 0.0120 - val_acc: 0.9958\n",
      "Epoch 7/10\n",
      "20000/20000 [==============================] - 1s - loss: 0.0188 - acc: 0.9938 - val_loss: 0.0115 - val_acc: 0.9962\n",
      "Epoch 8/10\n",
      "20000/20000 [==============================] - 1s - loss: 0.0182 - acc: 0.9940 - val_loss: 0.0112 - val_acc: 0.9962\n",
      "Epoch 9/10\n",
      "20000/20000 [==============================] - 1s - loss: 0.0173 - acc: 0.9947 - val_loss: 0.0108 - val_acc: 0.9964\n",
      "Epoch 10/10\n",
      "20000/20000 [==============================] - 1s - loss: 0.0161 - acc: 0.9950 - val_loss: 0.0106 - val_acc: 0.9960\n"
     ]
    },
    {
     "data": {
      "text/plain": [
       "<keras.callbacks.History at 0x1a72c3bdba8>"
      ]
     },
     "execution_count": 35,
     "metadata": {},
     "output_type": "execute_result"
    }
   ],
   "source": [
    "model.fit(X_train, y_train, batch_size=128, epochs=10, validation_split=0.2)"
   ]
  },
  {
   "cell_type": "markdown",
   "metadata": {},
   "source": [
    "预测训练集"
   ]
  },
  {
   "cell_type": "code",
   "execution_count": 22,
   "metadata": {},
   "outputs": [
    {
     "name": "stdout",
     "output_type": "stream",
     "text": [
      "11168/12500 [=========================>....] - ETA: 0sFound 12500 images belonging to 1 classes.\n"
     ]
    },
    {
     "name": "stderr",
     "output_type": "stream",
     "text": [
      "D:\\program\\Anaconda\\envs\\dogcat\\lib\\site-packages\\ipykernel_launcher.py:14: FutureWarning: set_value is deprecated and will be removed in a future release. Please use .at[] or .iat[] accessors instead\n",
      "  \n"
     ]
    },
    {
     "data": {
      "text/html": [
       "<div>\n",
       "<style scoped>\n",
       "    .dataframe tbody tr th:only-of-type {\n",
       "        vertical-align: middle;\n",
       "    }\n",
       "\n",
       "    .dataframe tbody tr th {\n",
       "        vertical-align: top;\n",
       "    }\n",
       "\n",
       "    .dataframe thead th {\n",
       "        text-align: right;\n",
       "    }\n",
       "</style>\n",
       "<table border=\"1\" class=\"dataframe\">\n",
       "  <thead>\n",
       "    <tr style=\"text-align: right;\">\n",
       "      <th></th>\n",
       "      <th>id</th>\n",
       "      <th>label</th>\n",
       "    </tr>\n",
       "  </thead>\n",
       "  <tbody>\n",
       "    <tr>\n",
       "      <th>0</th>\n",
       "      <td>1</td>\n",
       "      <td>0.995</td>\n",
       "    </tr>\n",
       "    <tr>\n",
       "      <th>1</th>\n",
       "      <td>2</td>\n",
       "      <td>0.995</td>\n",
       "    </tr>\n",
       "    <tr>\n",
       "      <th>2</th>\n",
       "      <td>3</td>\n",
       "      <td>0.995</td>\n",
       "    </tr>\n",
       "    <tr>\n",
       "      <th>3</th>\n",
       "      <td>4</td>\n",
       "      <td>0.995</td>\n",
       "    </tr>\n",
       "    <tr>\n",
       "      <th>4</th>\n",
       "      <td>5</td>\n",
       "      <td>0.005</td>\n",
       "    </tr>\n",
       "    <tr>\n",
       "      <th>5</th>\n",
       "      <td>6</td>\n",
       "      <td>0.005</td>\n",
       "    </tr>\n",
       "    <tr>\n",
       "      <th>6</th>\n",
       "      <td>7</td>\n",
       "      <td>0.005</td>\n",
       "    </tr>\n",
       "    <tr>\n",
       "      <th>7</th>\n",
       "      <td>8</td>\n",
       "      <td>0.005</td>\n",
       "    </tr>\n",
       "    <tr>\n",
       "      <th>8</th>\n",
       "      <td>9</td>\n",
       "      <td>0.005</td>\n",
       "    </tr>\n",
       "    <tr>\n",
       "      <th>9</th>\n",
       "      <td>10</td>\n",
       "      <td>0.005</td>\n",
       "    </tr>\n",
       "  </tbody>\n",
       "</table>\n",
       "</div>"
      ],
      "text/plain": [
       "   id  label\n",
       "0   1  0.995\n",
       "1   2  0.995\n",
       "2   3  0.995\n",
       "3   4  0.995\n",
       "4   5  0.005\n",
       "5   6  0.005\n",
       "6   7  0.005\n",
       "7   8  0.005\n",
       "8   9  0.005\n",
       "9  10  0.005"
      ]
     },
     "execution_count": 22,
     "metadata": {},
     "output_type": "execute_result"
    }
   ],
   "source": [
    "y_pred=model.predict(X_test, verbose=1)\n",
    "y_pred=y_pred.clip(min=0.005, max=0.995)\n",
    "\n",
    "import pandas as pd \n",
    "from keras.preprocessing.image import *\n",
    "df=pd.read_csv('sample_submission.csv')\n",
    "\n",
    "gen=ImageDataGenerator()\n",
    "\n",
    "test_generator=gen.flow_from_directory('test1', (224,224), shuffle=False, batch_size=32, class_mode=None)\n",
    "for i, fname in enumerate(test_generator.filenames):\n",
    "    index=int(fname[fname.rfind('\\\\')+1:fname.rfind('.')])\n",
    "    index=index-1.0\n",
    "    df.set_value(index, 'label', y_pred[i])\n",
    "df.to_csv('pred.csv', index=None)\n",
    "df.head(10)"
   ]
  },
  {
   "cell_type": "markdown",
   "metadata": {},
   "source": [
    "总结：我们使用和四种预训练模型，结果还不错。 "
   ]
  }
 ],
 "metadata": {
  "anaconda-cloud": {},
  "kernelspec": {
   "display_name": "Python 3",
   "language": "python",
   "name": "python3"
  },
  "language_info": {
   "codemirror_mode": {
    "name": "ipython",
    "version": 3
   },
   "file_extension": ".py",
   "mimetype": "text/x-python",
   "name": "python",
   "nbconvert_exporter": "python",
   "pygments_lexer": "ipython3",
   "version": "3.5.0"
  }
 },
 "nbformat": 4,
 "nbformat_minor": 1
}
